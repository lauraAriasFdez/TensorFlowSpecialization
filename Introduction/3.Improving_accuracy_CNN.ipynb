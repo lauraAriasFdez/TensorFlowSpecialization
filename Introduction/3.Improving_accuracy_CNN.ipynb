{
  "nbformat": 4,
  "nbformat_minor": 0,
  "metadata": {
    "colab": {
      "name": "C1_W3_Lab_1_improving_accuracy_using_convolutions.ipynb",
      "provenance": [],
      "collapsed_sections": [],
      "include_colab_link": true
    },
    "kernelspec": {
      "name": "python3",
      "display_name": "Python 3"
    },
    "language_info": {
      "name": "python"
    },
    "accelerator": "GPU"
  },
  "cells": [
    {
      "cell_type": "markdown",
      "metadata": {
        "id": "view-in-github",
        "colab_type": "text"
      },
      "source": [
        "<a href=\"https://colab.research.google.com/github/lauraAriasFdez/TensorFlowSpecialization/blob/main/Improving_accuracy_using_convolutions.ipynb\" target=\"_parent\"><img src=\"https://colab.research.google.com/assets/colab-badge.svg\" alt=\"Open In Colab\"/></a>"
      ]
    },
    {
      "cell_type": "markdown",
      "metadata": {
        "id": "rX8mhOLljYeM"
      },
      "source": [
        "More about the math behind Convolution Neural Network here: https://www.youtube.com/playlist?list=PLkDaE6sCZn6Gl29AoE31iwdVwSG-KnDzF"
      ]
    },
    {
      "cell_type": "markdown",
      "metadata": {
        "id": "s22jUeWUW_cI"
      },
      "source": [
        "1. Deep Neural Netwokr (DNN)\n",
        "2. Improving Computer Vision Accuracy using Convolutions & Pooling\n",
        "3. Visualizing the Convolutions and Pooling\n"
      ]
    },
    {
      "cell_type": "markdown",
      "metadata": {
        "id": "wAwJQmSZSBNQ"
      },
      "source": [
        "\n",
        "\n",
        "---\n",
        "\n"
      ]
    },
    {
      "cell_type": "markdown",
      "metadata": {
        "id": "R6gHiH-I7uFa"
      },
      "source": [
        "## **1. Deep Neural Network (DNN)**\n",
        "In the previous lessons you saw how to do fashion recognition using a Deep Neural Network (DNN) containing three layers -- the input layer (in the shape of the data), the output layer (in the shape of the desired output) and a hidden layer. You experimented with the impact of different sizes of hidden layer, number of training epochs etc on the final accuracy.\n"
      ]
    },
    {
      "cell_type": "code",
      "metadata": {
        "id": "xcsRtq9OLorS"
      },
      "source": [
        "import tensorflow as tf"
      ],
      "execution_count": 2,
      "outputs": []
    },
    {
      "cell_type": "code",
      "metadata": {
        "id": "SFDMnG1X36aj",
        "outputId": "fe6952d5-4918-4ded-af1e-31d4f0dc526a",
        "colab": {
          "base_uri": "https://localhost:8080/"
        }
      },
      "source": [
        "mnist = tf.keras.datasets.fashion_mnist\n",
        "(training_images, training_labels), (test_images, test_labels) = mnist.load_data()\n",
        "training_images=training_images / 255.0\n",
        "test_images=test_images / 255.0\n",
        "model = tf.keras.models.Sequential([\n",
        "  tf.keras.layers.Flatten(),\n",
        "  tf.keras.layers.Dense(128, activation=tf.nn.relu),\n",
        "  tf.keras.layers.Dense(10, activation=tf.nn.softmax)\n",
        "])\n",
        "model.compile(optimizer='adam', loss='sparse_categorical_crossentropy', metrics=['accuracy'])\n",
        "model.fit(training_images, training_labels, epochs=5)\n",
        "\n",
        "test_loss = model.evaluate(test_images, test_labels)"
      ],
      "execution_count": 3,
      "outputs": [
        {
          "output_type": "stream",
          "name": "stdout",
          "text": [
            "Downloading data from https://storage.googleapis.com/tensorflow/tf-keras-datasets/train-labels-idx1-ubyte.gz\n",
            "32768/29515 [=================================] - 0s 0us/step\n",
            "40960/29515 [=========================================] - 0s 0us/step\n",
            "Downloading data from https://storage.googleapis.com/tensorflow/tf-keras-datasets/train-images-idx3-ubyte.gz\n",
            "26427392/26421880 [==============================] - 0s 0us/step\n",
            "26435584/26421880 [==============================] - 0s 0us/step\n",
            "Downloading data from https://storage.googleapis.com/tensorflow/tf-keras-datasets/t10k-labels-idx1-ubyte.gz\n",
            "16384/5148 [===============================================================================================] - 0s 0us/step\n",
            "Downloading data from https://storage.googleapis.com/tensorflow/tf-keras-datasets/t10k-images-idx3-ubyte.gz\n",
            "4423680/4422102 [==============================] - 0s 0us/step\n",
            "4431872/4422102 [==============================] - 0s 0us/step\n",
            "Epoch 1/5\n",
            "1875/1875 [==============================] - 8s 3ms/step - loss: 0.4988 - accuracy: 0.8250\n",
            "Epoch 2/5\n",
            "1875/1875 [==============================] - 5s 3ms/step - loss: 0.3782 - accuracy: 0.8626\n",
            "Epoch 3/5\n",
            "1875/1875 [==============================] - 5s 3ms/step - loss: 0.3369 - accuracy: 0.8777\n",
            "Epoch 4/5\n",
            "1875/1875 [==============================] - 5s 3ms/step - loss: 0.3133 - accuracy: 0.8848\n",
            "Epoch 5/5\n",
            "1875/1875 [==============================] - 5s 3ms/step - loss: 0.2939 - accuracy: 0.8906\n",
            "313/313 [==============================] - 1s 3ms/step - loss: 0.3608 - accuracy: 0.8721\n"
          ]
        }
      ]
    },
    {
      "cell_type": "markdown",
      "metadata": {
        "id": "X0f2nwDlSDWz"
      },
      "source": [
        "\n",
        "\n",
        "---\n",
        "\n"
      ]
    },
    {
      "cell_type": "markdown",
      "metadata": {
        "id": "zldEXSsF8Noz"
      },
      "source": [
        "## **2. Improving Computer Vision Accuracy using Convolutions & Pooling**\n",
        "\n",
        "Applying Convolutions on top of our Deep neural network will make training:\n",
        "- It depends on many factors. It might make your training faster or slower, and a poorly designed Convolutional layer may even be less efficient than a plain DNN!\n",
        "\n",
        "### ***2.1 Convolution***\n",
        "\n",
        "> In short, you take an ***kernel*** (usually 3x3 or 5x5) and pass it over the image. By changing the underlying pixels based on the formula within that matrix, you can do things like edge detection.\n",
        "\n",
        "> ***This is perfect for computer vision,  because you'll just train on the highlighted features by the kernel.***\n",
        "\n",
        "---\n",
        "\n",
        "### ***2.2 Pooling***\n",
        "> Pooling is a way of compressing an image, in which you take 4 pixels near each other an only choose the pixel with highest value\n",
        "---\n",
        "\n",
        "### ***2.3 Thee concept of Convolutional Neural Networks***\n",
        "Add some layers to do convolution before you have the dense layers, and then the information going to the dense layers is more focussed, and possibly more accurate.\n",
        "1. https://www.tensorflow.org/api_docs/python/tf/keras/layers/Conv2D\n",
        "2. https://www.tensorflow.org/api_docs/python/tf/keras/layers/MaxPool2D\n"
      ]
    },
    {
      "cell_type": "code",
      "metadata": {
        "id": "C0tFgT1MMKi6",
        "colab": {
          "base_uri": "https://localhost:8080/"
        },
        "outputId": "3ef5a064-a55e-4446-a681-a044d0aefeac"
      },
      "source": [
        "import tensorflow as tf\n",
        "print(tf.__version__)\n",
        "## 1. Load the data\n",
        "mnist = tf.keras.datasets.fashion_mnist\n",
        "(training_images, training_labels), (test_images, test_labels) = mnist.load_data()\n",
        "\n",
        "## 2. Normalize data \n",
        "training_images=training_images.reshape(60000, 28, 28, 1)\n",
        "training_images=training_images / 255.0\n",
        "test_images = test_images.reshape(10000, 28, 28, 1)\n",
        "test_images=test_images/255.0\n",
        "\n",
        "## 3. Make Model\n",
        "model = tf.keras.models.Sequential([\n",
        "                                    \n",
        "  ## specify first convolution \n",
        "      # we want 64 filters  that are 3 by 3 \n",
        "      # activation function is relu = throw away negative vlaues\n",
        "      # 28 by 28 = input shape\n",
        "  tf.keras.layers.Conv2D(64, (3,3), activation='relu', input_shape=(28, 28, 1)),\n",
        "\n",
        "  # Compressed the image by taking a 2 by 2 set of pixels and only keep the highest\n",
        "    # it will comrpessed the image by 1/4\n",
        "  tf.keras.layers.MaxPooling2D(2, 2),\n",
        "\n",
        "  tf.keras.layers.Conv2D(64, (3,3), activation='relu'),\n",
        "  tf.keras.layers.MaxPooling2D(2,2),\n",
        "\n",
        "  ## Flat the image to start training \n",
        "  tf.keras.layers.Flatten(),\n",
        "  tf.keras.layers.Dense(128, activation='relu'),\n",
        "  tf.keras.layers.Dense(10, activation='softmax')\n",
        "])\n",
        "\n",
        "model.compile(optimizer='adam', loss='sparse_categorical_crossentropy', metrics=['accuracy'])\n",
        "## INSPECT MODEL Model \n",
        "  # see the journey/size of image thorugh the convolutions \n",
        "model.summary()\n",
        "\n",
        "## 4. Train/Fit Model \n",
        "model.fit(training_images, training_labels, epochs=5)\n",
        "\n",
        "## 5. Test Model \n",
        "test_loss = model.evaluate(test_images, test_labels)\n"
      ],
      "execution_count": 4,
      "outputs": [
        {
          "output_type": "stream",
          "name": "stdout",
          "text": [
            "2.7.0\n",
            "Model: \"sequential_1\"\n",
            "_________________________________________________________________\n",
            " Layer (type)                Output Shape              Param #   \n",
            "=================================================================\n",
            " conv2d (Conv2D)             (None, 26, 26, 64)        640       \n",
            "                                                                 \n",
            " max_pooling2d (MaxPooling2D  (None, 13, 13, 64)       0         \n",
            " )                                                               \n",
            "                                                                 \n",
            " conv2d_1 (Conv2D)           (None, 11, 11, 64)        36928     \n",
            "                                                                 \n",
            " max_pooling2d_1 (MaxPooling  (None, 5, 5, 64)         0         \n",
            " 2D)                                                             \n",
            "                                                                 \n",
            " flatten_1 (Flatten)         (None, 1600)              0         \n",
            "                                                                 \n",
            " dense_2 (Dense)             (None, 128)               204928    \n",
            "                                                                 \n",
            " dense_3 (Dense)             (None, 10)                1290      \n",
            "                                                                 \n",
            "=================================================================\n",
            "Total params: 243,786\n",
            "Trainable params: 243,786\n",
            "Non-trainable params: 0\n",
            "_________________________________________________________________\n",
            "Epoch 1/5\n",
            "1875/1875 [==============================] - 43s 9ms/step - loss: 0.4374 - accuracy: 0.8393\n",
            "Epoch 2/5\n",
            "1875/1875 [==============================] - 16s 8ms/step - loss: 0.2915 - accuracy: 0.8929\n",
            "Epoch 3/5\n",
            "1875/1875 [==============================] - 16s 9ms/step - loss: 0.2448 - accuracy: 0.9101\n",
            "Epoch 4/5\n",
            "1875/1875 [==============================] - 16s 8ms/step - loss: 0.2158 - accuracy: 0.9203\n",
            "Epoch 5/5\n",
            "1875/1875 [==============================] - 16s 9ms/step - loss: 0.1871 - accuracy: 0.9311\n",
            "313/313 [==============================] - 2s 5ms/step - loss: 0.2551 - accuracy: 0.9103\n"
          ]
        }
      ]
    },
    {
      "cell_type": "markdown",
      "metadata": {
        "id": "34v2XwyEThKc"
      },
      "source": [
        "### Let´s analyze the code above for model.summary()\n",
        "```\n",
        "Layer(type)       Output Shape   \n",
        "################################################   \n",
        "conv2d (Conv2D)       (None, 26, 26, 64)                                       \n",
        " max_pooling2d        (None, 13, 13, 64)                                            \n",
        "\n",
        "conv2d_1 (Conv2D)     (None, 11, 11, 64)                      \n",
        " max_pooling2d_1      (None, 5, 5, 64)                  \n",
        "\n",
        "flatten (Flatten)     (None, 1600)                                   \n",
        " dense (Dense)        (None, 128)                       \n",
        " dense_1 (Dense)      (None, 10)                                                                                 \n",
        "```\n",
        "\n",
        "- Even though the date is 28 by 28 in the 1st layer the output is 26 by 26. The reson behind this is the filter is a 3 by 3 filters, meaning the boder cannot be calculated \n",
        "  - if the filter was 5 by 5, we would have 24 by 24 \n",
        "\n",
        "- The pooling compressing the image by 1/4\n",
        "\n",
        "\n",
        "- The last max pooling ends up creating 64 images of 5 by 5 in size, therefore instead of 1 single image of 28 by 28, we know have 64 images/img 5 by 5 = 1600\n",
        "\n"
      ]
    },
    {
      "cell_type": "markdown",
      "metadata": {
        "id": "DlmsrEuHWmAv"
      },
      "source": [
        "\n",
        "\n",
        "---\n",
        "\n"
      ]
    },
    {
      "cell_type": "markdown",
      "metadata": {
        "id": "IXx_LX3SAlFs"
      },
      "source": [
        "##**3. Visualizing the Convolutions and Pooling**\n",
        "\n",
        "This code will show us the convolutions graphically. \n",
        "\n",
        "- The print (test_labels[:100]) shows us the first 100 labels in the test set, and you can see that the ones at index 0, index 23 and index 28 are all the same value (9)."
      ]
    },
    {
      "cell_type": "code",
      "metadata": {
        "id": "f-6nX4QsOku6",
        "colab": {
          "base_uri": "https://localhost:8080/"
        },
        "outputId": "c5944db1-b3ad-45bc-c5cc-a8218d0a7c35"
      },
      "source": [
        "print(test_labels[:100])"
      ],
      "execution_count": null,
      "outputs": [
        {
          "output_type": "stream",
          "name": "stdout",
          "text": [
            "[9 2 1 1 6 1 4 6 5 7 4 5 7 3 4 1 2 4 8 0 2 5 7 9 1 4 6 0 9 3 8 8 3 3 8 0 7\n",
            " 5 7 9 6 1 3 7 6 7 2 1 2 2 4 4 5 8 2 2 8 4 8 0 7 7 8 5 1 1 2 3 9 8 7 0 2 6\n",
            " 2 3 1 2 8 4 1 8 5 9 5 0 3 2 0 6 5 3 6 7 1 8 0 1 4 2]\n"
          ]
        }
      ]
    },
    {
      "cell_type": "code",
      "metadata": {
        "id": "9FGsHhv6JvDx",
        "colab": {
          "base_uri": "https://localhost:8080/",
          "height": 268
        },
        "outputId": "6b84e89f-05b3-4654-9969-50c1b57dd7fe"
      },
      "source": [
        "import matplotlib.pyplot as plt\n",
        "f, axarr = plt.subplots(3,4)\n",
        "\n",
        "# images of training data we want to display\n",
        "FIRST_IMAGE=0\n",
        "SECOND_IMAGE=7\n",
        "THIRD_IMAGE=26\n",
        "#  which convolution/filter you want to display (remember our model has 64)\n",
        "CONVOLUTION_NUMBER = 3\n",
        "from tensorflow.keras import models\n",
        "\n",
        "\n",
        "layer_outputs = [layer.output for layer in model.layers]\n",
        "activation_model = tf.keras.models.Model(inputs = model.input, outputs = layer_outputs)\n",
        "\n",
        "\n",
        "for x in range(0,4):\n",
        "  f1 = activation_model.predict(test_images[FIRST_IMAGE].reshape(1, 28, 28, 1))[x]\n",
        "  axarr[0,x].imshow(f1[0, : , :, CONVOLUTION_NUMBER], cmap='inferno')\n",
        "  axarr[0,x].grid(False)\n",
        "  f2 = activation_model.predict(test_images[SECOND_IMAGE].reshape(1, 28, 28, 1))[x]\n",
        "  axarr[1,x].imshow(f2[0, : , :, CONVOLUTION_NUMBER], cmap='inferno')\n",
        "  axarr[1,x].grid(False)\n",
        "  f3 = activation_model.predict(test_images[THIRD_IMAGE].reshape(1, 28, 28, 1))[x]\n",
        "  axarr[2,x].imshow(f3[0, : , :, CONVOLUTION_NUMBER], cmap='inferno')\n",
        "  axarr[2,x].grid(False)"
      ],
      "execution_count": 11,
      "outputs": [
        {
          "output_type": "display_data",
          "data": {
            "image/png": "[encoded data removed]",
            "text/plain": [
              "<Figure size 432x288 with 12 Axes>"
            ]
          },
          "metadata": {
            "needs_background": "light"
          }
        }
      ]
    },
    {
      "cell_type": "markdown",
      "metadata": {
        "id": "8KVPZqgHo5Ux"
      },
      "source": [
        "### EXERCISES\n",
        "\n",
        "1. ***Try editing the convolutions. Change the 32s to either 16 or 64. What impact will this have on accuracy and/or training time.*** \n",
        "\n",
        "Higher number of filters leads to a higher training accuarcy but it leads to overfitting as testing accuarcy decreases\n",
        "\n",
        "-  when there are 64 filters:\n",
        "    - training data: loss 0.0132 - accuracy: 0.9957\n",
        "    - testing data:   loss: 0.0500 - accuracy: 0.9842\n",
        "- when there are 32 filters: \n",
        "    - training data: loss: 0.0154 - accuracy: 0.9951\n",
        "    - testing data:loss: 0.0481 - accuracy: 0.9855\n",
        " \n",
        "- when there are 16 filters: \n",
        "  - training data: loss: 0.0185 - accuracy: 0.9942\n",
        "  - testing data:loss: 0.0392 - accuracy: 0.9865\n",
        "\n",
        "\n",
        "(USING 16 FILTERS)\n",
        "2. ***Remove the final Convolution. What impact will this have on accuracy or training time?*** \n",
        "\n",
        "Removing the convolution will lead to a much faster training time, yet it will lead to worse accuarcy\n",
        "  - training data: loss: 0.0918 - accuracy: 0.9720\n",
        "  - testing data: loss: 0.1028 - accuracy: 0.9675\n",
        "\n",
        "3. ***How about adding more Convolutions? What impact do you think this will have? Experiment with it.*** \n",
        "\n",
        "Adding another convolution layer will lead to a higher training accuarcy, yet it will to a worse testing accuarcy (OVERFITTING)\n",
        "  - training data: loss: 0.0245 - accuracy: 0.9923\n",
        "  - testing data: loss: 0.0378 - accuracy: 0.9872\n",
        "\n",
        "\n",
        "4. ***In the previous lesson you implemented a callback to check on the loss function and to cancel training once it hit a certain amount. See if you can implement that here!***"
      ]
    },
    {
      "cell_type": "code",
      "metadata": {
        "id": "ZpYRidBXpBPM",
        "outputId": "9ee2db5c-f71b-4060-8628-39da43597f74",
        "colab": {
          "base_uri": "https://localhost:8080/"
        }
      },
      "source": [
        "import tensorflow as tf\n",
        "print(tf.__version__)\n",
        "mnist = tf.keras.datasets.mnist\n",
        "(training_images, training_labels), (test_images, test_labels) = mnist.load_data()\n",
        "training_images=training_images.reshape(60000, 28, 28, 1)\n",
        "training_images=training_images / 255.0\n",
        "test_images = test_images.reshape(10000, 28, 28, 1)\n",
        "test_images=test_images/255.0\n",
        "model = tf.keras.models.Sequential([\n",
        "  tf.keras.layers.Conv2D(16, (3,3), activation='relu', input_shape=(28, 28, 1)),\n",
        "  tf.keras.layers.MaxPooling2D(2, 2),\n",
        "\n",
        "  tf.keras.layers.Conv2D(16, (3,3), activation='relu', input_shape=(28, 28, 1)),\n",
        "  tf.keras.layers.MaxPooling2D(2, 2),\n",
        "  \n",
        "  tf.keras.layers.Flatten(),\n",
        "  tf.keras.layers.Dense(128, activation='relu'),\n",
        "  tf.keras.layers.Dense(10, activation='softmax')\n",
        "])\n",
        "model.compile(optimizer='adam', loss='sparse_categorical_crossentropy', metrics=['accuracy'])\n",
        "model.fit(training_images, training_labels, epochs=5)\n",
        "test_loss, test_acc = model.evaluate(test_images, test_labels)\n",
        "print(test_acc)"
      ],
      "execution_count": 10,
      "outputs": [
        {
          "output_type": "stream",
          "name": "stdout",
          "text": [
            "2.7.0\n",
            "Epoch 1/5\n",
            "1875/1875 [==============================] - 9s 4ms/step - loss: 0.1716 - accuracy: 0.9496\n",
            "Epoch 2/5\n",
            "1875/1875 [==============================] - 8s 4ms/step - loss: 0.0556 - accuracy: 0.9826\n",
            "Epoch 3/5\n",
            "1875/1875 [==============================] - 8s 4ms/step - loss: 0.0398 - accuracy: 0.9872\n",
            "Epoch 4/5\n",
            "1875/1875 [==============================] - 8s 4ms/step - loss: 0.0316 - accuracy: 0.9895\n",
            "Epoch 5/5\n",
            "1875/1875 [==============================] - 8s 4ms/step - loss: 0.0245 - accuracy: 0.9923\n",
            "313/313 [==============================] - 1s 4ms/step - loss: 0.0378 - accuracy: 0.9872\n",
            "0.9872000217437744\n"
          ]
        }
      ]
    }
  ]
}