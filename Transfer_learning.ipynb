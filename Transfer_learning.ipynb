{
  "nbformat": 4,
  "nbformat_minor": 0,
  "metadata": {
    "accelerator": "GPU",
    "colab": {
      "name": "C2_W3_Lab_1_transfer_learning.ipynb",
      "provenance": [],
      "collapsed_sections": [],
      "include_colab_link": true
    },
    "kernelspec": {
      "name": "python3",
      "display_name": "Python 3"
    },
    "language_info": {
      "name": "python"
    }
  },
  "cells": [
    {
      "cell_type": "markdown",
      "metadata": {
        "id": "view-in-github",
        "colab_type": "text"
      },
      "source": [
        "<a href=\"https://colab.research.google.com/github/lauraAriasFdez/TensorFlowSpecialization/blob/main/Transfer_learning.ipynb\" target=\"_parent\"><img src=\"https://colab.research.google.com/assets/colab-badge.svg\" alt=\"Open In Colab\"/></a>"
      ]
    },
    {
      "cell_type": "markdown",
      "metadata": {
        "id": "8PpwPhnHoEIt"
      },
      "source": [
        "# ***TRANSFER LEARNING***"
      ]
    },
    {
      "cell_type": "markdown",
      "metadata": {
        "id": "YDDt53t1ohyp"
      },
      "source": [
        "For more on how to freeze/lock layers, explore the documentation, which includes an example using MobileNet architecture: https://www.tensorflow.org/tutorials/images/transfer_learning\n",
        "\n"
      ]
    },
    {
      "cell_type": "markdown",
      "metadata": {
        "id": "D05D7h65qkcl"
      },
      "source": [
        "## 1. DOWNLOAD Pretrain Model"
      ]
    },
    {
      "cell_type": "code",
      "metadata": {
        "id": "1xJZ5glPPCRz",
        "outputId": "0b8df0f8-0aae-412b-fa2b-fa6af4a7d31e",
        "colab": {
          "base_uri": "https://localhost:8080/"
        }
      },
      "source": [
        "import os\n",
        "\n",
        "from tensorflow.keras import layers\n",
        "from tensorflow.keras import Model\n",
        "\n",
        "\n",
        "## This is a snapshot of the model after being trained\n",
        "# It is a copy of the pretrained weights for the inception NN \n",
        "!wget --no-check-certificate \\\n",
        "    https://storage.googleapis.com/mledu-datasets/inception_v3_weights_tf_dim_ordering_tf_kernels_notop.h5 \\\n",
        "    -O /tmp/inception_v3_weights_tf_dim_ordering_tf_kernels_notop.h5\n",
        "  \n"
      ],
      "execution_count": 1,
      "outputs": [
        {
          "output_type": "stream",
          "name": "stdout",
          "text": [
            "--2021-11-30 16:24:04--  https://storage.googleapis.com/mledu-datasets/inception_v3_weights_tf_dim_ordering_tf_kernels_notop.h5\n",
            "Resolving storage.googleapis.com (storage.googleapis.com)... 74.125.140.128, 173.194.76.128, 66.102.1.128, ...\n",
            "Connecting to storage.googleapis.com (storage.googleapis.com)|74.125.140.128|:443... connected.\n",
            "HTTP request sent, awaiting response... 200 OK\n",
            "Length: 87910968 (84M) [application/x-hdf]\n",
            "Saving to: ‘/tmp/inception_v3_weights_tf_dim_ordering_tf_kernels_notop.h5’\n",
            "\n",
            "/tmp/inception_v3_w 100%[===================>]  83.84M   189MB/s    in 0.4s    \n",
            "\n",
            "2021-11-30 16:24:04 (189 MB/s) - ‘/tmp/inception_v3_weights_tf_dim_ordering_tf_kernels_notop.h5’ saved [87910968/87910968]\n",
            "\n"
          ]
        }
      ]
    },
    {
      "cell_type": "code",
      "metadata": {
        "id": "KsiBCpQ1VvPp",
        "outputId": "97b6578b-8acf-4115-dc64-8b6ef81deafd",
        "colab": {
          "base_uri": "https://localhost:8080/"
        }
      },
      "source": [
        "\n",
        "# 1. Download the base model (pretrained)_________________-\n",
        "from tensorflow.keras.applications.inception_v3 import InceptionV3\n",
        "local_weights_file = '/tmp/inception_v3_weights_tf_dim_ordering_tf_kernels_notop.h5'\n",
        "\n",
        "\n",
        "# Instantiate the pretrained model with the input shape of YOUR data and\n",
        "# specify you do NOT want to use built-in weights \n",
        "pre_trained_model = InceptionV3(input_shape = (150, 150, 3), \n",
        "                                include_top = False, \n",
        "                                weights = None)\n",
        "pre_trained_model.load_weights(local_weights_file)\n",
        "\n",
        "\n",
        "#2. Interate through its layers and lock them = saying NOT trainable______\n",
        "for layer in pre_trained_model.layers:\n",
        "  layer.trainable = False\n",
        "  \n",
        "# pre_trained_model.summary()\n",
        "\n",
        "\n",
        "# 3- Find the layer in which the convolution output is 7 by 7 instead of 3 by 3\n",
        "last_layer = pre_trained_model.get_layer('mixed7')\n",
        "print('last layer output shape: ', last_layer.output_shape)\n",
        "last_output = last_layer.output"
      ],
      "execution_count": 2,
      "outputs": [
        {
          "output_type": "stream",
          "name": "stdout",
          "text": [
            "last layer output shape:  (None, 7, 7, 768)\n"
          ]
        }
      ]
    },
    {
      "cell_type": "markdown",
      "metadata": {
        "id": "LcAp8tyNqpN6"
      },
      "source": [
        "## 2. Add Trainable Layers to the Model"
      ]
    },
    {
      "cell_type": "code",
      "metadata": {
        "id": "BMXb913pbvFg"
      },
      "source": [
        "from tensorflow.keras.optimizers import RMSprop\n",
        "\n",
        "# Flatten the output layer to 1 dimension\n",
        "x = layers.Flatten()(last_output)\n",
        "# Add a fully connected layer with 1,024 hidden units and ReLU activation\n",
        "x = layers.Dense(1024, activation='relu')(x)\n",
        "# Add a dropout rate of 0.2\n",
        "x = layers.Dropout(0.2)(x)                  \n",
        "# Add a final sigmoid layer for classification\n",
        "x = layers.Dense  (1, activation='sigmoid')(x)           \n",
        "\n",
        "model = Model( pre_trained_model.input, x) \n",
        "\n",
        "model.compile(optimizer = RMSprop(learning_rate=0.0001), \n",
        "              loss = 'binary_crossentropy', \n",
        "              metrics = ['accuracy'])\n"
      ],
      "execution_count": 3,
      "outputs": []
    },
    {
      "cell_type": "code",
      "metadata": {
        "id": "O4s8HckqGlnb",
        "outputId": "e590145d-89df-4305-ea3c-2918d2347dc9",
        "colab": {
          "base_uri": "https://localhost:8080/"
        }
      },
      "source": [
        "!gdown --id 1RL0T7Rg4XqQNRCkjfnLo4goOJQ7XZro9\n",
        "\n",
        "from tensorflow.keras.preprocessing.image import ImageDataGenerator\n",
        "\n",
        "import os\n",
        "import zipfile\n",
        "\n",
        "zip_ref = zipfile.ZipFile(\"./cats_and_dogs_filtered.zip\", 'r')\n",
        "zip_ref.extractall(\"tmp/\")\n",
        "zip_ref.close()\n",
        "\n",
        "# Define our example directories and files\n",
        "base_dir = 'tmp/cats_and_dogs_filtered'\n",
        "\n",
        "train_dir = os.path.join( base_dir, 'train')\n",
        "validation_dir = os.path.join( base_dir, 'validation')\n",
        "\n",
        "\n",
        "train_cats_dir = os.path.join(train_dir, 'cats') # Directory with our training cat pictures\n",
        "train_dogs_dir = os.path.join(train_dir, 'dogs') # Directory with our training dog pictures\n",
        "validation_cats_dir = os.path.join(validation_dir, 'cats') # Directory with our validation cat pictures\n",
        "validation_dogs_dir = os.path.join(validation_dir, 'dogs')# Directory with our validation dog pictures\n",
        "\n",
        "train_cat_fnames = os.listdir(train_cats_dir)\n",
        "train_dog_fnames = os.listdir(train_dogs_dir)\n",
        "\n",
        "# Add our data-augmentation parameters to ImageDataGenerator\n",
        "train_datagen = ImageDataGenerator(rescale = 1./255.,\n",
        "                                   rotation_range = 40,\n",
        "                                   width_shift_range = 0.2,\n",
        "                                   height_shift_range = 0.2,\n",
        "                                   shear_range = 0.2,\n",
        "                                   zoom_range = 0.2,\n",
        "                                   horizontal_flip = True)\n",
        "\n",
        "# Note that the validation data should not be augmented!\n",
        "test_datagen = ImageDataGenerator( rescale = 1.0/255. )\n",
        "\n",
        "# Flow training images in batches of 20 using train_datagen generator\n",
        "train_generator = train_datagen.flow_from_directory(train_dir,\n",
        "                                                    batch_size = 20,\n",
        "                                                    class_mode = 'binary', \n",
        "                                                    target_size = (150, 150))     \n",
        "\n",
        "# Flow validation images in batches of 20 using test_datagen generator\n",
        "validation_generator =  test_datagen.flow_from_directory( validation_dir,\n",
        "                                                          batch_size  = 20,\n",
        "                                                          class_mode  = 'binary', \n",
        "                                                          target_size = (150, 150))"
      ],
      "execution_count": 4,
      "outputs": [
        {
          "output_type": "stream",
          "name": "stdout",
          "text": [
            "Downloading...\n",
            "From: https://drive.google.com/uc?id=1RL0T7Rg4XqQNRCkjfnLo4goOJQ7XZro9\n",
            "To: /content/cats_and_dogs_filtered.zip\n",
            "100% 68.6M/68.6M [00:01<00:00, 61.5MB/s]\n",
            "Found 2000 images belonging to 2 classes.\n",
            "Found 1000 images belonging to 2 classes.\n"
          ]
        }
      ]
    },
    {
      "cell_type": "code",
      "metadata": {
        "id": "Blhq2MAUeyGA",
        "outputId": "4a07ca2d-a1de-4a6f-8516-da75e0ca292e",
        "colab": {
          "base_uri": "https://localhost:8080/"
        }
      },
      "source": [
        "history = model.fit(\n",
        "            train_generator,\n",
        "            validation_data = validation_generator,\n",
        "            steps_per_epoch = 100,\n",
        "            epochs = 20,\n",
        "            validation_steps = 50,\n",
        "            verbose = 2)"
      ],
      "execution_count": 5,
      "outputs": [
        {
          "output_type": "stream",
          "name": "stdout",
          "text": [
            "Epoch 1/20\n",
            "100/100 - 37s - loss: 0.3414 - accuracy: 0.8685 - val_loss: 0.1404 - val_accuracy: 0.9410 - 37s/epoch - 372ms/step\n",
            "Epoch 2/20\n",
            "100/100 - 22s - loss: 0.1985 - accuracy: 0.9245 - val_loss: 0.1036 - val_accuracy: 0.9630 - 22s/epoch - 225ms/step\n",
            "Epoch 3/20\n",
            "100/100 - 23s - loss: 0.2233 - accuracy: 0.9145 - val_loss: 0.1928 - val_accuracy: 0.9380 - 23s/epoch - 232ms/step\n",
            "Epoch 4/20\n",
            "100/100 - 22s - loss: 0.1979 - accuracy: 0.9350 - val_loss: 0.1115 - val_accuracy: 0.9610 - 22s/epoch - 223ms/step\n",
            "Epoch 5/20\n",
            "100/100 - 23s - loss: 0.1638 - accuracy: 0.9390 - val_loss: 0.1851 - val_accuracy: 0.9400 - 23s/epoch - 231ms/step\n",
            "Epoch 6/20\n",
            "100/100 - 22s - loss: 0.1828 - accuracy: 0.9320 - val_loss: 0.1554 - val_accuracy: 0.9500 - 22s/epoch - 224ms/step\n",
            "Epoch 7/20\n",
            "100/100 - 23s - loss: 0.1803 - accuracy: 0.9430 - val_loss: 0.0979 - val_accuracy: 0.9690 - 23s/epoch - 228ms/step\n",
            "Epoch 8/20\n",
            "100/100 - 22s - loss: 0.1527 - accuracy: 0.9450 - val_loss: 0.0928 - val_accuracy: 0.9700 - 22s/epoch - 221ms/step\n",
            "Epoch 9/20\n",
            "100/100 - 22s - loss: 0.1474 - accuracy: 0.9495 - val_loss: 0.1101 - val_accuracy: 0.9670 - 22s/epoch - 223ms/step\n",
            "Epoch 10/20\n",
            "100/100 - 22s - loss: 0.1563 - accuracy: 0.9445 - val_loss: 0.1056 - val_accuracy: 0.9700 - 22s/epoch - 220ms/step\n",
            "Epoch 11/20\n",
            "100/100 - 22s - loss: 0.1549 - accuracy: 0.9535 - val_loss: 0.1154 - val_accuracy: 0.9630 - 22s/epoch - 221ms/step\n",
            "Epoch 12/20\n",
            "100/100 - 23s - loss: 0.1452 - accuracy: 0.9495 - val_loss: 0.1323 - val_accuracy: 0.9640 - 23s/epoch - 231ms/step\n",
            "Epoch 13/20\n",
            "100/100 - 22s - loss: 0.1285 - accuracy: 0.9535 - val_loss: 0.1450 - val_accuracy: 0.9690 - 22s/epoch - 221ms/step\n",
            "Epoch 14/20\n",
            "100/100 - 23s - loss: 0.1633 - accuracy: 0.9470 - val_loss: 0.1352 - val_accuracy: 0.9630 - 23s/epoch - 229ms/step\n",
            "Epoch 15/20\n",
            "100/100 - 22s - loss: 0.1459 - accuracy: 0.9520 - val_loss: 0.1903 - val_accuracy: 0.9550 - 22s/epoch - 223ms/step\n",
            "Epoch 16/20\n",
            "100/100 - 23s - loss: 0.1358 - accuracy: 0.9540 - val_loss: 0.1627 - val_accuracy: 0.9580 - 23s/epoch - 230ms/step\n",
            "Epoch 17/20\n",
            "100/100 - 22s - loss: 0.1299 - accuracy: 0.9520 - val_loss: 0.1286 - val_accuracy: 0.9660 - 22s/epoch - 225ms/step\n",
            "Epoch 18/20\n",
            "100/100 - 23s - loss: 0.1073 - accuracy: 0.9680 - val_loss: 0.1505 - val_accuracy: 0.9620 - 23s/epoch - 229ms/step\n",
            "Epoch 19/20\n",
            "100/100 - 22s - loss: 0.1414 - accuracy: 0.9525 - val_loss: 0.1660 - val_accuracy: 0.9580 - 22s/epoch - 223ms/step\n",
            "Epoch 20/20\n",
            "100/100 - 23s - loss: 0.1248 - accuracy: 0.9595 - val_loss: 0.1575 - val_accuracy: 0.9620 - 23s/epoch - 227ms/step\n"
          ]
        }
      ]
    },
    {
      "cell_type": "markdown",
      "metadata": {
        "id": "33upPcEjrANP"
      },
      "source": [
        "## 3. Plot the training accuarcy "
      ]
    },
    {
      "cell_type": "code",
      "metadata": {
        "id": "C2Fp6Se9rKuL",
        "outputId": "a688662b-42b5-4f49-c3a3-8286cdf73b9b",
        "colab": {
          "base_uri": "https://localhost:8080/",
          "height": 298
        }
      },
      "source": [
        "import matplotlib.pyplot as plt\n",
        "acc = history.history['accuracy']\n",
        "val_acc = history.history['val_accuracy']\n",
        "loss = history.history['loss']\n",
        "val_loss = history.history['val_loss']\n",
        "\n",
        "epochs = range(len(acc))\n",
        "\n",
        "plt.plot(epochs, acc, 'r', label='Training accuracy')\n",
        "plt.plot(epochs, val_acc, 'b', label='Validation accuracy')\n",
        "plt.title('Training and validation accuracy')\n",
        "plt.legend(loc=0)\n",
        "plt.figure()\n",
        "\n",
        "\n",
        "plt.show()"
      ],
      "execution_count": 6,
      "outputs": [
        {
          "output_type": "display_data",
          "data": {
            "image/png": "[encoded data removed]",
            "text/plain": [
              "<Figure size 432x288 with 1 Axes>"
            ]
          },
          "metadata": {
            "needs_background": "light"
          }
        },
        {
          "output_type": "display_data",
          "data": {
            "text/plain": [
              "<Figure size 432x288 with 0 Axes>"
            ]
          },
          "metadata": {}
        }
      ]
    },
    {
      "cell_type": "markdown",
      "metadata": {
        "id": "YXPgbBYerQnD"
      },
      "source": [
        "# DROPOUT\n"
      ]
    },
    {
      "cell_type": "markdown",
      "metadata": {
        "id": "-v8nWkE1rUCc"
      },
      "source": [
        "remove a random number of neurons in your neural network.\n",
        "\n",
        "1. Neighboring neurons often end up with similar weights, which can lead to overfitting, so dropping some out at random can remove this.\n",
        "\n",
        "2. Often a neuron can over-weigh the input from a neuron in the previous layer, and can over specialize as a result. Thus, dropping out can break the neural network out of this potential bad habit! \n",
        "\n",
        "\n",
        "https://www.youtube.com/watch?v=ARq74QuavAo\n",
        "\n"
      ]
    },
    {
      "cell_type": "markdown",
      "metadata": {
        "id": "nAbhX_VwtGXo"
      },
      "source": [
        "Set dropout of 20% of nodes\n",
        "\n",
        "```\n",
        "x = layers.Dropout(0.2)(x)\n",
        "```\n",
        "\n",
        "\n",
        "***If Dropout rate Too High*** = The network would lose specialization to the effect that it would be inefficient or ineffective at learning, driving accuracy down\n",
        "\n",
        "\n"
      ]
    }
  ]
}