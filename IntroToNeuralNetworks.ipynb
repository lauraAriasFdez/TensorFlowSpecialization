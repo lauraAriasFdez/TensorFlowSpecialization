{
  "nbformat": 4,
  "nbformat_minor": 0,
  "metadata": {
    "colab": {
      "name": "IntroToNeuralNetworks.ipynb",
      "provenance": [],
      "collapsed_sections": [],
      "authorship_tag": "ABX9TyPjVy6YKsmw1kpvanUwHR76",
      "include_colab_link": true
    },
    "kernelspec": {
      "name": "python3",
      "display_name": "Python 3"
    },
    "language_info": {
      "name": "python"
    }
  },
  "cells": [
    {
      "cell_type": "markdown",
      "metadata": {
        "id": "view-in-github",
        "colab_type": "text"
      },
      "source": [
        "<a href=\"https://colab.research.google.com/github/lauraAriasFdez/TensorFlowSpecialization/blob/main/IntroToNeuralNetworks.ipynb\" target=\"_parent\"><img src=\"https://colab.research.google.com/assets/colab-badge.svg\" alt=\"Open In Colab\"/></a>"
      ]
    },
    {
      "cell_type": "markdown",
      "metadata": {
        "id": "FWpndTADzZzY"
      },
      "source": [
        "***GOAL***: Create a neural networks to learn relationship between\\ two numbers."
      ]
    },
    {
      "cell_type": "markdown",
      "metadata": {
        "id": "uhop5-3czuht"
      },
      "source": [
        "### **1. Imports** "
      ]
    },
    {
      "cell_type": "code",
      "metadata": {
        "id": "S8AURw7wdPuF"
      },
      "source": [
        "import tensorflow as tf\n",
        "import keras\n",
        "import numpy as np"
      ],
      "execution_count": 6,
      "outputs": []
    },
    {
      "cell_type": "markdown",
      "metadata": {
        "id": "VRWxuwLKz5St"
      },
      "source": [
        "### **2. Define Neural Network**\n"
      ]
    },
    {
      "cell_type": "markdown",
      "metadata": {
        "id": "XsedQ9on0a-D"
      },
      "source": [
        "***optimizer function***:  function that updates parameters based on loss function to try and  minimize the function\n",
        "- *Example* sgd (stochastic gradient descent)\n",
        "\n",
        "***Loss function***:  measures the error between the predicted value and the known true value from training data\n",
        "\n",
        "***Epochs***:  An epoch is one training iteration, so in one iteration all samples are iterated once\n",
        "\n",
        "***Dense***: A layer of connected neurons\n",
        "\n",
        "\n"
      ]
    },
    {
      "cell_type": "code",
      "metadata": {
        "id": "5skIUgShxRYZ"
      },
      "source": [
        "# This creates a simple neural network (only 1 neuron)\n",
        "model = keras.Sequential([keras.layers.Dense(units=1, input_shape=[1])])\n",
        "model.compile(optimizer='sgd',loss='mean_squared_error')"
      ],
      "execution_count": 5,
      "outputs": []
    },
    {
      "cell_type": "markdown",
      "metadata": {
        "id": "EDBZx8vY1Sj-"
      },
      "source": [
        "### **3. Get Training Data**"
      ]
    },
    {
      "cell_type": "code",
      "metadata": {
        "id": "_xvbd0-lxsLt"
      },
      "source": [
        "# Represent data\n",
        "X = np.array([-1.0,0.0,1.0,2.0,3.0,4.0],dtype=float)\n",
        "r = np.array([-3.0,-1.0,1.0,3.0,5.0,7.0],dtype=float)\n"
      ],
      "execution_count": null,
      "outputs": []
    },
    {
      "cell_type": "markdown",
      "metadata": {
        "id": "YY6wnz8p1b-g"
      },
      "source": [
        "### **4. Train Model**"
      ]
    },
    {
      "cell_type": "code",
      "metadata": {
        "id": "Ter2iWss1YY6"
      },
      "source": [
        "# train the model\n",
        "model.fit (X,r,epochs=500)"
      ],
      "execution_count": null,
      "outputs": []
    },
    {
      "cell_type": "markdown",
      "metadata": {
        "id": "-3U0ZDq_1k_W"
      },
      "source": [
        "### **5. Predict New Values**"
      ]
    },
    {
      "cell_type": "code",
      "metadata": {
        "id": "u3PJQMZ21ghg"
      },
      "source": [
        "# predict value\n",
        "print(model.predict([10.0]))"
      ],
      "execution_count": null,
      "outputs": []
    }
  ]
}